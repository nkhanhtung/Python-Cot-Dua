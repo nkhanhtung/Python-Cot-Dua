{
 "cells": [
  {
   "cell_type": "code",
   "execution_count": 1,
   "metadata": {},
   "outputs": [],
   "source": [
    "import pandas as pd\n",
    "\n",
    "# Đọc và kết hợp dữ liệu\n",
    "files = [\"Data_tiki_bếp từ.csv\", \"Data_tiki_quạt điện.csv\", \"Data_tiki_chảo chống dính.csv\", \"Data_tiki_nồi cơm điện.csv\", \"Data_tiki_ấm siêu tốc.csv\", \"Data_tiki_nồi inox.csv\"]\n",
    "categories = [\"Bếp Từ\", \"Quạt Điện\", \"Chảo Chống Dính\", \"Nồi Cơm Điện\", \"Ấm Siêu Tốc\", \"Nồi\"]\n",
    "\n",
    "data = []\n",
    "for file, category in zip(files, categories):\n",
    "    df = pd.read_csv(file)\n",
    "    df[\"category\"] = category  # Thêm cột phân loại sản phẩm\n",
    "    data.append(df)\n",
    "\n",
    "# Kết hợp tất cả các file thành 1 DataFrame\n",
    "df = pd.concat(data, ignore_index=True)"
   ]
  },
  {
   "cell_type": "code",
   "execution_count": 2,
   "metadata": {},
   "outputs": [
    {
     "data": {
      "text/html": [
       "<div>\n",
       "<style scoped>\n",
       "    .dataframe tbody tr th:only-of-type {\n",
       "        vertical-align: middle;\n",
       "    }\n",
       "\n",
       "    .dataframe tbody tr th {\n",
       "        vertical-align: top;\n",
       "    }\n",
       "\n",
       "    .dataframe thead th {\n",
       "        text-align: right;\n",
       "    }\n",
       "</style>\n",
       "<table border=\"1\" class=\"dataframe\">\n",
       "  <thead>\n",
       "    <tr style=\"text-align: right;\">\n",
       "      <th></th>\n",
       "      <th>name</th>\n",
       "      <th>price</th>\n",
       "      <th>original_price</th>\n",
       "      <th>discount</th>\n",
       "      <th>rating</th>\n",
       "      <th>review_count</th>\n",
       "      <th>sales_count</th>\n",
       "      <th>inventory_status</th>\n",
       "      <th>brand_name</th>\n",
       "      <th>seller_name</th>\n",
       "      <th>categories</th>\n",
       "      <th>short_description</th>\n",
       "      <th>link</th>\n",
       "      <th>category</th>\n",
       "    </tr>\n",
       "  </thead>\n",
       "  <tbody>\n",
       "    <tr>\n",
       "      <th>0</th>\n",
       "      <td>Bếp điện từ Elmich ICE 3879 - Hàng Chính Hãng</td>\n",
       "      <td>986000</td>\n",
       "      <td>1800000</td>\n",
       "      <td>45</td>\n",
       "      <td>5.0</td>\n",
       "      <td>9</td>\n",
       "      <td>31</td>\n",
       "      <td>NaN</td>\n",
       "      <td>NaN</td>\n",
       "      <td>Tiki Trading</td>\n",
       "      <td>NaN</td>\n",
       "      <td>NaN</td>\n",
       "      <td>https://tiki.vn/bep-dien-tu-elmich-ice-3879-ha...</td>\n",
       "      <td>Bếp Từ</td>\n",
       "    </tr>\n",
       "    <tr>\n",
       "      <th>1</th>\n",
       "      <td>Bếp điện từ Elmich ICE-1832</td>\n",
       "      <td>952000</td>\n",
       "      <td>1490000</td>\n",
       "      <td>36</td>\n",
       "      <td>5.0</td>\n",
       "      <td>2</td>\n",
       "      <td>9</td>\n",
       "      <td>NaN</td>\n",
       "      <td>NaN</td>\n",
       "      <td>Tiki Trading</td>\n",
       "      <td>NaN</td>\n",
       "      <td>NaN</td>\n",
       "      <td>https://tiki.vn/bep-dien-tu-elmich-ice-1831-p2...</td>\n",
       "      <td>Bếp Từ</td>\n",
       "    </tr>\n",
       "    <tr>\n",
       "      <th>2</th>\n",
       "      <td>Bếp từ Sunhouse SHD6867 - Hàng Chính Hãng</td>\n",
       "      <td>1290000</td>\n",
       "      <td>1520000</td>\n",
       "      <td>15</td>\n",
       "      <td>0.0</td>\n",
       "      <td>0</td>\n",
       "      <td>0</td>\n",
       "      <td>NaN</td>\n",
       "      <td>NaN</td>\n",
       "      <td>Điện Máy Xanh Official</td>\n",
       "      <td>NaN</td>\n",
       "      <td>NaN</td>\n",
       "      <td>https://tiki.vn/bep-tu-sunhouse-shd6867-hang-c...</td>\n",
       "      <td>Bếp Từ</td>\n",
       "    </tr>\n",
       "    <tr>\n",
       "      <th>3</th>\n",
       "      <td>Bếp từ Sunhouse SHD6159 - Hàng Chính Hãng</td>\n",
       "      <td>900000</td>\n",
       "      <td>1060000</td>\n",
       "      <td>15</td>\n",
       "      <td>0.0</td>\n",
       "      <td>0</td>\n",
       "      <td>0</td>\n",
       "      <td>NaN</td>\n",
       "      <td>NaN</td>\n",
       "      <td>Điện Máy Xanh Official</td>\n",
       "      <td>NaN</td>\n",
       "      <td>NaN</td>\n",
       "      <td>https://tiki.vn/bep-tu-sunhouse-shd6159-hang-c...</td>\n",
       "      <td>Bếp Từ</td>\n",
       "    </tr>\n",
       "    <tr>\n",
       "      <th>4</th>\n",
       "      <td>Bếp điện từ Elmich ICE-3874 - Hàng chính hãng</td>\n",
       "      <td>1070000</td>\n",
       "      <td>1070000</td>\n",
       "      <td>0</td>\n",
       "      <td>5.0</td>\n",
       "      <td>4</td>\n",
       "      <td>9</td>\n",
       "      <td>NaN</td>\n",
       "      <td>NaN</td>\n",
       "      <td>Alô Bếp</td>\n",
       "      <td>NaN</td>\n",
       "      <td>NaN</td>\n",
       "      <td>https://tiki.vn/bep-dien-tu-elmich-ice-3874-ha...</td>\n",
       "      <td>Bếp Từ</td>\n",
       "    </tr>\n",
       "    <tr>\n",
       "      <th>...</th>\n",
       "      <td>...</td>\n",
       "      <td>...</td>\n",
       "      <td>...</td>\n",
       "      <td>...</td>\n",
       "      <td>...</td>\n",
       "      <td>...</td>\n",
       "      <td>...</td>\n",
       "      <td>...</td>\n",
       "      <td>...</td>\n",
       "      <td>...</td>\n",
       "      <td>...</td>\n",
       "      <td>...</td>\n",
       "      <td>...</td>\n",
       "      <td>...</td>\n",
       "    </tr>\n",
       "    <tr>\n",
       "      <th>2995</th>\n",
       "      <td>Bộ 5 nồi xửng inox Rainy-RN09T - Hàng Chính Hãng</td>\n",
       "      <td>1185000</td>\n",
       "      <td>1190000</td>\n",
       "      <td>0</td>\n",
       "      <td>0.0</td>\n",
       "      <td>0</td>\n",
       "      <td>0</td>\n",
       "      <td>NaN</td>\n",
       "      <td>NaN</td>\n",
       "      <td>Home Star Store</td>\n",
       "      <td>NaN</td>\n",
       "      <td>NaN</td>\n",
       "      <td>https://tiki.vn/bo-5-noi-xung-inox-rainy-rn09t...</td>\n",
       "      <td>Nồi</td>\n",
       "    </tr>\n",
       "    <tr>\n",
       "      <th>2996</th>\n",
       "      <td>Bộ 4 nồi inox 18/10 Korkmaz Proline tay nắm mà...</td>\n",
       "      <td>7550000</td>\n",
       "      <td>8944000</td>\n",
       "      <td>16</td>\n",
       "      <td>0.0</td>\n",
       "      <td>0</td>\n",
       "      <td>0</td>\n",
       "      <td>NaN</td>\n",
       "      <td>NaN</td>\n",
       "      <td>Tiki Trading</td>\n",
       "      <td>NaN</td>\n",
       "      <td>NaN</td>\n",
       "      <td>https://tiki.vn/bo-4-noi-inox-18-10-korkmaz-pr...</td>\n",
       "      <td>Nồi</td>\n",
       "    </tr>\n",
       "    <tr>\n",
       "      <th>2997</th>\n",
       "      <td>Nồi luộc gà FiveStar inox 430 nắp kính, tặng 2...</td>\n",
       "      <td>720000</td>\n",
       "      <td>720000</td>\n",
       "      <td>0</td>\n",
       "      <td>5.0</td>\n",
       "      <td>3</td>\n",
       "      <td>11</td>\n",
       "      <td>NaN</td>\n",
       "      <td>NaN</td>\n",
       "      <td>SHOP BẾP XINH</td>\n",
       "      <td>NaN</td>\n",
       "      <td>NaN</td>\n",
       "      <td>https://tiki.vn/noi-luoc-ga-fivestar-inox-430-...</td>\n",
       "      <td>Nồi</td>\n",
       "    </tr>\n",
       "    <tr>\n",
       "      <th>2998</th>\n",
       "      <td>Nồi áp suất inox 304 Sunhouse Mama SHG9906M1, ...</td>\n",
       "      <td>999000</td>\n",
       "      <td>999000</td>\n",
       "      <td>0</td>\n",
       "      <td>0.0</td>\n",
       "      <td>0</td>\n",
       "      <td>1</td>\n",
       "      <td>NaN</td>\n",
       "      <td>NaN</td>\n",
       "      <td>Do Gia Dung Ha Linh</td>\n",
       "      <td>NaN</td>\n",
       "      <td>NaN</td>\n",
       "      <td>https://tiki.vn/noi-ap-suat-inox-304-sunhouse-...</td>\n",
       "      <td>Nồi</td>\n",
       "    </tr>\n",
       "    <tr>\n",
       "      <th>2999</th>\n",
       "      <td>Nồi lẩu inox 430 cao cấp Fivestar Standard nắp...</td>\n",
       "      <td>256500</td>\n",
       "      <td>285000</td>\n",
       "      <td>10</td>\n",
       "      <td>5.0</td>\n",
       "      <td>2</td>\n",
       "      <td>4</td>\n",
       "      <td>NaN</td>\n",
       "      <td>NaN</td>\n",
       "      <td>Gia Dụng An Nhiên</td>\n",
       "      <td>NaN</td>\n",
       "      <td>NaN</td>\n",
       "      <td>https://tiki.vn/noi-lau-inox-430-cao-cap-fives...</td>\n",
       "      <td>Nồi</td>\n",
       "    </tr>\n",
       "  </tbody>\n",
       "</table>\n",
       "<p>3000 rows × 14 columns</p>\n",
       "</div>"
      ],
      "text/plain": [
       "                                                   name    price  \\\n",
       "0         Bếp điện từ Elmich ICE 3879 - Hàng Chính Hãng   986000   \n",
       "1                           Bếp điện từ Elmich ICE-1832   952000   \n",
       "2             Bếp từ Sunhouse SHD6867 - Hàng Chính Hãng  1290000   \n",
       "3             Bếp từ Sunhouse SHD6159 - Hàng Chính Hãng   900000   \n",
       "4         Bếp điện từ Elmich ICE-3874 - Hàng chính hãng  1070000   \n",
       "...                                                 ...      ...   \n",
       "2995   Bộ 5 nồi xửng inox Rainy-RN09T - Hàng Chính Hãng  1185000   \n",
       "2996  Bộ 4 nồi inox 18/10 Korkmaz Proline tay nắm mà...  7550000   \n",
       "2997  Nồi luộc gà FiveStar inox 430 nắp kính, tặng 2...   720000   \n",
       "2998  Nồi áp suất inox 304 Sunhouse Mama SHG9906M1, ...   999000   \n",
       "2999  Nồi lẩu inox 430 cao cấp Fivestar Standard nắp...   256500   \n",
       "\n",
       "      original_price  discount  rating  review_count  sales_count  \\\n",
       "0            1800000        45     5.0             9           31   \n",
       "1            1490000        36     5.0             2            9   \n",
       "2            1520000        15     0.0             0            0   \n",
       "3            1060000        15     0.0             0            0   \n",
       "4            1070000         0     5.0             4            9   \n",
       "...              ...       ...     ...           ...          ...   \n",
       "2995         1190000         0     0.0             0            0   \n",
       "2996         8944000        16     0.0             0            0   \n",
       "2997          720000         0     5.0             3           11   \n",
       "2998          999000         0     0.0             0            1   \n",
       "2999          285000        10     5.0             2            4   \n",
       "\n",
       "      inventory_status  brand_name             seller_name  categories  \\\n",
       "0                  NaN         NaN            Tiki Trading         NaN   \n",
       "1                  NaN         NaN            Tiki Trading         NaN   \n",
       "2                  NaN         NaN  Điện Máy Xanh Official         NaN   \n",
       "3                  NaN         NaN  Điện Máy Xanh Official         NaN   \n",
       "4                  NaN         NaN                 Alô Bếp         NaN   \n",
       "...                ...         ...                     ...         ...   \n",
       "2995               NaN         NaN         Home Star Store         NaN   \n",
       "2996               NaN         NaN            Tiki Trading         NaN   \n",
       "2997               NaN         NaN           SHOP BẾP XINH         NaN   \n",
       "2998               NaN         NaN     Do Gia Dung Ha Linh         NaN   \n",
       "2999               NaN         NaN       Gia Dụng An Nhiên         NaN   \n",
       "\n",
       "      short_description                                               link  \\\n",
       "0                   NaN  https://tiki.vn/bep-dien-tu-elmich-ice-3879-ha...   \n",
       "1                   NaN  https://tiki.vn/bep-dien-tu-elmich-ice-1831-p2...   \n",
       "2                   NaN  https://tiki.vn/bep-tu-sunhouse-shd6867-hang-c...   \n",
       "3                   NaN  https://tiki.vn/bep-tu-sunhouse-shd6159-hang-c...   \n",
       "4                   NaN  https://tiki.vn/bep-dien-tu-elmich-ice-3874-ha...   \n",
       "...                 ...                                                ...   \n",
       "2995                NaN  https://tiki.vn/bo-5-noi-xung-inox-rainy-rn09t...   \n",
       "2996                NaN  https://tiki.vn/bo-4-noi-inox-18-10-korkmaz-pr...   \n",
       "2997                NaN  https://tiki.vn/noi-luoc-ga-fivestar-inox-430-...   \n",
       "2998                NaN  https://tiki.vn/noi-ap-suat-inox-304-sunhouse-...   \n",
       "2999                NaN  https://tiki.vn/noi-lau-inox-430-cao-cap-fives...   \n",
       "\n",
       "     category  \n",
       "0      Bếp Từ  \n",
       "1      Bếp Từ  \n",
       "2      Bếp Từ  \n",
       "3      Bếp Từ  \n",
       "4      Bếp Từ  \n",
       "...       ...  \n",
       "2995      Nồi  \n",
       "2996      Nồi  \n",
       "2997      Nồi  \n",
       "2998      Nồi  \n",
       "2999      Nồi  \n",
       "\n",
       "[3000 rows x 14 columns]"
      ]
     },
     "execution_count": 2,
     "metadata": {},
     "output_type": "execute_result"
    }
   ],
   "source": [
    "df"
   ]
  },
  {
   "cell_type": "code",
   "execution_count": 3,
   "metadata": {},
   "outputs": [
    {
     "name": "stdout",
     "output_type": "stream",
     "text": [
      "<class 'pandas.core.frame.DataFrame'>\n",
      "RangeIndex: 3000 entries, 0 to 2999\n",
      "Data columns (total 14 columns):\n",
      " #   Column             Non-Null Count  Dtype  \n",
      "---  ------             --------------  -----  \n",
      " 0   name               3000 non-null   object \n",
      " 1   price              3000 non-null   int64  \n",
      " 2   original_price     3000 non-null   int64  \n",
      " 3   discount           3000 non-null   int64  \n",
      " 4   rating             3000 non-null   float64\n",
      " 5   review_count       3000 non-null   int64  \n",
      " 6   sales_count        3000 non-null   int64  \n",
      " 7   inventory_status   0 non-null      float64\n",
      " 8   brand_name         0 non-null      float64\n",
      " 9   seller_name        3000 non-null   object \n",
      " 10  categories         0 non-null      float64\n",
      " 11  short_description  0 non-null      float64\n",
      " 12  link               3000 non-null   object \n",
      " 13  category           3000 non-null   object \n",
      "dtypes: float64(5), int64(5), object(4)\n",
      "memory usage: 328.3+ KB\n"
     ]
    }
   ],
   "source": [
    "df.info()"
   ]
  },
  {
   "cell_type": "code",
   "execution_count": 4,
   "metadata": {},
   "outputs": [
    {
     "name": "stdout",
     "output_type": "stream",
     "text": [
      "<class 'pandas.core.frame.DataFrame'>\n",
      "RangeIndex: 3000 entries, 0 to 2999\n",
      "Data columns (total 9 columns):\n",
      " #   Column          Non-Null Count  Dtype  \n",
      "---  ------          --------------  -----  \n",
      " 0   name            3000 non-null   object \n",
      " 1   price           3000 non-null   int64  \n",
      " 2   original_price  3000 non-null   int64  \n",
      " 3   discount        3000 non-null   int64  \n",
      " 4   rating          3000 non-null   float64\n",
      " 5   review_count    3000 non-null   int64  \n",
      " 6   sales_count     3000 non-null   int64  \n",
      " 7   seller_name     3000 non-null   object \n",
      " 8   category        3000 non-null   object \n",
      "dtypes: float64(1), int64(5), object(3)\n",
      "memory usage: 211.1+ KB\n"
     ]
    }
   ],
   "source": [
    "columns_to_drop = ['inventory_status','brand_name','categories','short_description','link']\n",
    "df.drop(columns=columns_to_drop, inplace=True)\n",
    "df.info()"
   ]
  },
  {
   "cell_type": "code",
   "execution_count": 5,
   "metadata": {},
   "outputs": [
    {
     "name": "stderr",
     "output_type": "stream",
     "text": [
      "C:\\Users\\Lenovo\\AppData\\Local\\Temp\\ipykernel_15184\\300175267.py:3: UserWarning: Instantiating StringDtype without any arguments.Pass a StringDtype instance to silence this warning.\n",
      "  df[columns_to_string] = df[columns_to_string].astype(pd.StringDtype)\n"
     ]
    }
   ],
   "source": [
    "# chuyển đổi các cột có dữ liệu chữ từ dạng object thành string\n",
    "columns_to_string = ['name','seller_name','category']\n",
    "df[columns_to_string] = df[columns_to_string].astype(pd.StringDtype)"
   ]
  },
  {
   "cell_type": "code",
   "execution_count": 6,
   "metadata": {},
   "outputs": [
    {
     "name": "stdout",
     "output_type": "stream",
     "text": [
      "price             0\n",
      "original_price    0\n",
      "rating            0\n",
      "discount          0\n",
      "review_count      0\n",
      "sales_count       0\n",
      "dtype: int64\n"
     ]
    }
   ],
   "source": [
    "# kiểm tra liệu có tồn tại các giá trị không hợp lệ\n",
    "columns_check = ['price','original_price','rating','discount','review_count','sales_count']\n",
    "print((df[columns_check] < 0).sum())"
   ]
  },
  {
   "cell_type": "code",
   "execution_count": 7,
   "metadata": {},
   "outputs": [
    {
     "name": "stdout",
     "output_type": "stream",
     "text": [
      "0\n"
     ]
    }
   ],
   "source": [
    "print((df['discount'] > 100).sum())"
   ]
  },
  {
   "cell_type": "code",
   "execution_count": 8,
   "metadata": {},
   "outputs": [
    {
     "name": "stdout",
     "output_type": "stream",
     "text": [
      "0\n"
     ]
    }
   ],
   "source": [
    "print((df['rating'] > 5).sum())"
   ]
  },
  {
   "cell_type": "code",
   "execution_count": 9,
   "metadata": {},
   "outputs": [
    {
     "name": "stdout",
     "output_type": "stream",
     "text": [
      "10\n"
     ]
    }
   ],
   "source": [
    "print(df.duplicated().sum())"
   ]
  },
  {
   "cell_type": "code",
   "execution_count": 10,
   "metadata": {},
   "outputs": [
    {
     "name": "stdout",
     "output_type": "stream",
     "text": [
      "0\n"
     ]
    }
   ],
   "source": [
    "df = df.drop_duplicates()\n",
    "print(df.duplicated().sum())"
   ]
  },
  {
   "cell_type": "code",
   "execution_count": 11,
   "metadata": {},
   "outputs": [
    {
     "name": "stdout",
     "output_type": "stream",
     "text": [
      "name              0\n",
      "price             0\n",
      "original_price    0\n",
      "discount          0\n",
      "rating            0\n",
      "review_count      0\n",
      "sales_count       0\n",
      "seller_name       0\n",
      "category          0\n",
      "dtype: int64\n"
     ]
    }
   ],
   "source": [
    "print(df.isnull().sum())"
   ]
  },
  {
   "cell_type": "code",
   "execution_count": 12,
   "metadata": {},
   "outputs": [],
   "source": [
    "columns_check_zero = ['rating','review_count','sales_count']\n",
    "df = df[(df[columns_check_zero] > 0).all(axis=1)]"
   ]
  },
  {
   "cell_type": "code",
   "execution_count": 13,
   "metadata": {},
   "outputs": [
    {
     "name": "stdout",
     "output_type": "stream",
     "text": [
      "<class 'pandas.core.frame.DataFrame'>\n",
      "Index: 934 entries, 0 to 2999\n",
      "Data columns (total 9 columns):\n",
      " #   Column          Non-Null Count  Dtype  \n",
      "---  ------          --------------  -----  \n",
      " 0   name            934 non-null    string \n",
      " 1   price           934 non-null    int64  \n",
      " 2   original_price  934 non-null    int64  \n",
      " 3   discount        934 non-null    int64  \n",
      " 4   rating          934 non-null    float64\n",
      " 5   review_count    934 non-null    int64  \n",
      " 6   sales_count     934 non-null    int64  \n",
      " 7   seller_name     934 non-null    string \n",
      " 8   category        934 non-null    string \n",
      "dtypes: float64(1), int64(5), string(3)\n",
      "memory usage: 73.0 KB\n"
     ]
    }
   ],
   "source": [
    "df.info()"
   ]
  },
  {
   "cell_type": "code",
   "execution_count": 14,
   "metadata": {},
   "outputs": [],
   "source": [
    "# Hàm lọc dữ liệu theo các tiêu chí\n",
    "def filter_products(df):\n",
    "    # Lọc các sản phẩm có giá > 0\n",
    "    df_filtered = df[df[\"price\"] > 0]\n",
    "\n",
    "    # Lọc các sản phẩm có số lượt đánh giá > 0\n",
    "    df_filtered = df_filtered[df_filtered[\"review_count\"] > 0]\n",
    "\n",
    "    # Lọc các sản phẩm có điểm đánh giá >= 1\n",
    "    df_filtered = df_filtered[df_filtered[\"rating\"] >= 1]\n",
    "\n",
    "    # Lọc các sản phẩm có số lượt mua > 0\n",
    "    df_filtered = df_filtered[df_filtered[\"sales_count\"] > 0]\n",
    "\n",
    "    return df_filtered"
   ]
  },
  {
   "cell_type": "code",
   "execution_count": 15,
   "metadata": {},
   "outputs": [],
   "source": [
    "df1 = filter_products(df)\n",
    "df1 = df1.loc[df1['price'] >= df1['price'].quantile(0.1)]\n",
    "df1 = df1.loc[df1['price'] <= df1['price'].quantile(0.9)]"
   ]
  },
  {
   "cell_type": "code",
   "execution_count": 16,
   "metadata": {},
   "outputs": [],
   "source": [
    "df1.to_csv('Data_tiki_general.csv')"
   ]
  }
 ],
 "metadata": {
  "kernelspec": {
   "display_name": "khanhtungcn12",
   "language": "python",
   "name": "python3"
  },
  "language_info": {
   "codemirror_mode": {
    "name": "ipython",
    "version": 3
   },
   "file_extension": ".py",
   "mimetype": "text/x-python",
   "name": "python",
   "nbconvert_exporter": "python",
   "pygments_lexer": "ipython3",
   "version": "3.12.7"
  }
 },
 "nbformat": 4,
 "nbformat_minor": 2
}
