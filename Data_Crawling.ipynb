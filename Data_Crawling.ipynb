{
 "cells": [
  {
   "cell_type": "markdown",
   "metadata": {},
   "source": [
    "Import libraries :"
   ]
  },
  {
   "cell_type": "code",
   "execution_count": 1,
   "metadata": {},
   "outputs": [],
   "source": [
    "import requests\n",
    "import json\n",
    "import pandas as pd\n",
    "\n",
    "# URL API không chính thức của Tiki\n",
    "API_URL = \"https://tiki.vn/api/v2/products\"\n",
    "\n",
    "# Hàm crawl dữ liệu từ Tiki\n",
    "def crawl_tiki_data(keyword, total_products=500, products_per_page=50):\n",
    "    try:\n",
    "        all_products = []\n",
    "        page = 1  # Bắt đầu từ trang đầu tiên\n",
    "\n",
    "        while len(all_products) < total_products:\n",
    "            # Tạo URL tìm kiếm với từ khóa và số lượng sản phẩm mỗi trang\n",
    "            search_url = f\"https://tiki.vn/api/v2/products?limit={products_per_page}&q={keyword}&page={page}\"\n",
    "            response = requests.get(search_url, headers={\"User-Agent\": \"Mozilla/5.0\"})\n",
    "\n",
    "            if response.status_code == 200:\n",
    "                data = response.json()\n",
    "                items = data.get(\"data\", [])\n",
    "\n",
    "                if not items:  # Dừng nếu không có dữ liệu trả về\n",
    "                    print(f\"Không có dữ liệu ở trang {page}. Dừng crawl.\")\n",
    "                    break\n",
    "\n",
    "                # Thu thập dữ liệu từ từng sản phẩm\n",
    "                for item in items:\n",
    "                    all_products.append({\n",
    "                        \"name\": item.get(\"name\"),\n",
    "                        \"price\": item.get(\"price\", 0),\n",
    "                        \"original_price\": item.get(\"original_price\", 0),\n",
    "                        \"discount\": item.get(\"discount_rate\", 0),\n",
    "                        \"rating\": item.get(\"rating_average\", 0),\n",
    "                        \"review_count\": item.get(\"review_count\", 0),\n",
    "                        \"sales_count\": item.get(\"quantity_sold\", {}).get(\"value\", 0),\n",
    "                        \"inventory_status\": item.get(\"inventory_status\", \"N/A\"),\n",
    "                        \"brand_name\": item.get(\"brand\", {}).get(\"name\", \"N/A\"),\n",
    "                        \"seller_name\": item.get(\"seller_name\", \"N/A\"),\n",
    "                        \"categories\": \", \".join([cat.get(\"name\", \"N/A\") for cat in item.get(\"categories\", [])]),\n",
    "                        \"short_description\": item.get(\"short_description\", \"N/A\"),\n",
    "                        \"link\": f\"https://tiki.vn/{item.get('url_path', '')}\"\n",
    "                    })\n",
    "\n",
    "                # print(f\"Đã lấy dữ liệu từ trang {page}.\")\n",
    "                page += 1\n",
    "            else:\n",
    "                print(f\"Không thể lấy dữ liệu từ Tiki tại trang {page}. Mã lỗi: {response.status_code}\")\n",
    "                break\n",
    "\n",
    "            # Kiểm tra nếu đã đạt đủ số lượng sản phẩm yêu cầu\n",
    "            if len(all_products) >= total_products:\n",
    "                print(\"Đã đạt đủ số lượng sản phẩm yêu cầu.\")\n",
    "                break\n",
    "\n",
    "        # Lưu dữ liệu vào file CSV\n",
    "        df = pd.DataFrame(all_products[:total_products])\n",
    "        output_file = f\"Data_tiki_{keyword}.csv\"\n",
    "        df.to_csv(output_file, index=False)\n",
    "\n",
    "        # print(f\"Đã lấy được {len(all_products)} sản phẩm. Dữ liệu đã được lưu vào {output_file}\")\n",
    "\n",
    "    except Exception as e:\n",
    "        print(f\"Đã xảy ra lỗi: {e}\")"
   ]
  },
  {
   "cell_type": "code",
   "execution_count": 3,
   "metadata": {},
   "outputs": [
    {
     "name": "stdout",
     "output_type": "stream",
     "text": [
      "Đã đạt đủ số lượng sản phẩm yêu cầu.\n"
     ]
    }
   ],
   "source": [
    "if __name__ == \"__main__\":\n",
    "    keyword = \"chảo chống dính\"  # Từ khóa tìm kiếm\n",
    "    crawl_tiki_data(keyword, total_products=500, products_per_page=50)\n"
   ]
  },
  {
   "cell_type": "code",
   "execution_count": 4,
   "metadata": {},
   "outputs": [
    {
     "name": "stdout",
     "output_type": "stream",
     "text": [
      "Đã đạt đủ số lượng sản phẩm yêu cầu.\n"
     ]
    }
   ],
   "source": [
    "if __name__ == \"__main__\":\n",
    "    keyword = \"ấm siêu tốc\"  # Từ khóa tìm kiếm\n",
    "    crawl_tiki_data(keyword, total_products=500, products_per_page=50)\n"
   ]
  },
  {
   "cell_type": "code",
   "execution_count": 5,
   "metadata": {},
   "outputs": [
    {
     "name": "stdout",
     "output_type": "stream",
     "text": [
      "Đã đạt đủ số lượng sản phẩm yêu cầu.\n"
     ]
    }
   ],
   "source": [
    "if __name__ == \"__main__\":\n",
    "    keyword = \"bếp từ\"  # Từ khóa tìm kiếm\n",
    "    crawl_tiki_data(keyword, total_products=500, products_per_page=50)\n"
   ]
  },
  {
   "cell_type": "code",
   "execution_count": 6,
   "metadata": {},
   "outputs": [
    {
     "name": "stdout",
     "output_type": "stream",
     "text": [
      "Đã đạt đủ số lượng sản phẩm yêu cầu.\n"
     ]
    }
   ],
   "source": [
    "if __name__ == \"__main__\":\n",
    "    keyword = \"nồi cơm điện\"  # Từ khóa tìm kiếm\n",
    "    crawl_tiki_data(keyword, total_products=500, products_per_page=50)\n"
   ]
  },
  {
   "cell_type": "code",
   "execution_count": 7,
   "metadata": {},
   "outputs": [
    {
     "name": "stdout",
     "output_type": "stream",
     "text": [
      "Đã đạt đủ số lượng sản phẩm yêu cầu.\n"
     ]
    }
   ],
   "source": [
    "if __name__ == \"__main__\":\n",
    "    keyword = \"quạt điện\"  # Từ khóa tìm kiếm\n",
    "    crawl_tiki_data(keyword, total_products=500, products_per_page=50)\n"
   ]
  },
  {
   "cell_type": "code",
   "execution_count": 8,
   "metadata": {},
   "outputs": [
    {
     "name": "stdout",
     "output_type": "stream",
     "text": [
      "Đã đạt đủ số lượng sản phẩm yêu cầu.\n"
     ]
    }
   ],
   "source": [
    "if __name__ == \"__main__\":\n",
    "    keyword = \"nồi inox\"  # Từ khóa tìm kiếm\n",
    "    crawl_tiki_data(keyword, total_products=500, products_per_page=50)\n"
   ]
  }
 ],
 "metadata": {
  "kernelspec": {
   "display_name": "khanhtungcn12",
   "language": "python",
   "name": "python3"
  },
  "language_info": {
   "codemirror_mode": {
    "name": "ipython",
    "version": 3
   },
   "file_extension": ".py",
   "mimetype": "text/x-python",
   "name": "python",
   "nbconvert_exporter": "python",
   "pygments_lexer": "ipython3",
   "version": "3.12.7"
  }
 },
 "nbformat": 4,
 "nbformat_minor": 2
}
